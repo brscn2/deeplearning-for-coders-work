{
  "metadata": {
    "kernelspec": {
      "language": "python",
      "display_name": "Python 3",
      "name": "python3"
    },
    "language_info": {
      "name": "python",
      "version": "3.10.13",
      "mimetype": "text/x-python",
      "codemirror_mode": {
        "name": "ipython",
        "version": 3
      },
      "pygments_lexer": "ipython3",
      "nbconvert_exporter": "python",
      "file_extension": ".py"
    },
    "kaggle": {
      "accelerator": "nvidiaTeslaT4",
      "dataSources": [],
      "dockerImageVersionId": 30699,
      "isInternetEnabled": true,
      "language": "python",
      "sourceType": "notebook",
      "isGpuEnabled": true
    },
    "colab": {
      "name": "ch7_state_of_the_art_models",
      "provenance": [],
      "include_colab_link": true
    }
  },
  "nbformat_minor": 0,
  "nbformat": 4,
  "cells": [
    {
      "cell_type": "markdown",
      "metadata": {
        "id": "view-in-github",
        "colab_type": "text"
      },
      "source": [
        "<a href=\"https://colab.research.google.com/github/brscn2/deeplearning-for-coders-work/blob/main/ch7_state_of_the_art_models.ipynb\" target=\"_parent\"><img src=\"https://colab.research.google.com/assets/colab-badge.svg\" alt=\"Open In Colab\"/></a>"
      ]
    },
    {
      "cell_type": "code",
      "source": [
        "from fastai.vision.all import *\n",
        "\n",
        "path = untar_data(URLs.IMAGENETTE)"
      ],
      "metadata": {
        "_uuid": "8f2839f25d086af736a60e9eeb907d3b93b6e0e5",
        "_cell_guid": "b1076dfc-b9ad-4769-8c92-a6c4dae69d19",
        "execution": {
          "iopub.status.busy": "2024-05-06T13:04:15.107454Z",
          "iopub.execute_input": "2024-05-06T13:04:15.107929Z",
          "iopub.status.idle": "2024-05-06T13:05:05.29139Z",
          "shell.execute_reply.started": "2024-05-06T13:04:15.107876Z",
          "shell.execute_reply": "2024-05-06T13:05:05.290342Z"
        },
        "trusted": true,
        "id": "suK8kujkOqC7",
        "outputId": "ed8e8c57-7ff9-4646-e37b-762bb2f793a5"
      },
      "execution_count": null,
      "outputs": [
        {
          "output_type": "display_data",
          "data": {
            "text/plain": "<IPython.core.display.HTML object>",
            "text/html": "\n<style>\n    /* Turns off some styling */\n    progress {\n        /* gets rid of default border in Firefox and Opera. */\n        border: none;\n        /* Needs to be in here for Safari polyfill so background images work as expected. */\n        background-size: auto;\n    }\n    progress:not([value]), progress:not([value])::-webkit-progress-bar {\n        background: repeating-linear-gradient(45deg, #7e7e7e, #7e7e7e 10px, #5c5c5c 10px, #5c5c5c 20px);\n    }\n    .progress-bar-interrupted, .progress-bar-interrupted::-webkit-progress-bar {\n        background: #F44336;\n    }\n</style>\n"
          },
          "metadata": {}
        },
        {
          "output_type": "display_data",
          "data": {
            "text/plain": "<IPython.core.display.HTML object>",
            "text/html": "\n    <div>\n      <progress value='1557168128' class='' max='1557161267' style='width:300px; height:20px; vertical-align: middle;'></progress>\n      100.00% [1557168128/1557161267 00:27&lt;00:00]\n    </div>\n    "
          },
          "metadata": {}
        }
      ]
    },
    {
      "cell_type": "code",
      "source": [
        "# Using presizing with item_tfms\n",
        "dblock = DataBlock(blocks = (ImageBlock(), CategoryBlock()),\n",
        "                   get_items = get_image_files,\n",
        "                   get_y = parent_label,\n",
        "                   item_tfms = Resize(460),\n",
        "                   batch_tfms = aug_transforms(size = 224, min_scale = 0.75))\n",
        "\n",
        "dls = dblock.dataloaders(path, bs=64)"
      ],
      "metadata": {
        "execution": {
          "iopub.status.busy": "2024-05-06T13:05:05.293705Z",
          "iopub.execute_input": "2024-05-06T13:05:05.294438Z",
          "iopub.status.idle": "2024-05-06T13:05:07.832438Z",
          "shell.execute_reply.started": "2024-05-06T13:05:05.294402Z",
          "shell.execute_reply": "2024-05-06T13:05:07.831505Z"
        },
        "trusted": true,
        "id": "rvaHbpujOqC8"
      },
      "execution_count": null,
      "outputs": []
    },
    {
      "cell_type": "code",
      "source": [
        "model = xresnet50()\n",
        "learn = Learner(dls, model, loss_func = CrossEntropyLossFlat(), metrics = accuracy)\n",
        "learn.fit_one_cycle(5, 3e-3)"
      ],
      "metadata": {
        "execution": {
          "iopub.status.busy": "2024-05-06T13:05:15.608239Z",
          "iopub.execute_input": "2024-05-06T13:05:15.608664Z",
          "iopub.status.idle": "2024-05-06T13:16:57.378429Z",
          "shell.execute_reply.started": "2024-05-06T13:05:15.60862Z",
          "shell.execute_reply": "2024-05-06T13:16:57.377192Z"
        },
        "trusted": true,
        "id": "d1s5eYqNOqC8",
        "outputId": "3bf34bac-b86d-4c85-a8fa-7d60ca33cd95"
      },
      "execution_count": null,
      "outputs": [
        {
          "output_type": "display_data",
          "data": {
            "text/plain": "<IPython.core.display.HTML object>",
            "text/html": "\n<style>\n    /* Turns off some styling */\n    progress {\n        /* gets rid of default border in Firefox and Opera. */\n        border: none;\n        /* Needs to be in here for Safari polyfill so background images work as expected. */\n        background-size: auto;\n    }\n    progress:not([value]), progress:not([value])::-webkit-progress-bar {\n        background: repeating-linear-gradient(45deg, #7e7e7e, #7e7e7e 10px, #5c5c5c 10px, #5c5c5c 20px);\n    }\n    .progress-bar-interrupted, .progress-bar-interrupted::-webkit-progress-bar {\n        background: #F44336;\n    }\n</style>\n"
          },
          "metadata": {}
        },
        {
          "output_type": "display_data",
          "data": {
            "text/plain": "<IPython.core.display.HTML object>",
            "text/html": "<table border=\"1\" class=\"dataframe\">\n  <thead>\n    <tr style=\"text-align: left;\">\n      <th>epoch</th>\n      <th>train_loss</th>\n      <th>valid_loss</th>\n      <th>accuracy</th>\n      <th>time</th>\n    </tr>\n  </thead>\n  <tbody>\n    <tr>\n      <td>0</td>\n      <td>1.619994</td>\n      <td>2.246135</td>\n      <td>0.360344</td>\n      <td>02:17</td>\n    </tr>\n    <tr>\n      <td>1</td>\n      <td>1.216281</td>\n      <td>1.859482</td>\n      <td>0.482450</td>\n      <td>02:20</td>\n    </tr>\n    <tr>\n      <td>2</td>\n      <td>0.919811</td>\n      <td>1.162771</td>\n      <td>0.671770</td>\n      <td>02:21</td>\n    </tr>\n    <tr>\n      <td>3</td>\n      <td>0.719671</td>\n      <td>0.671101</td>\n      <td>0.790515</td>\n      <td>02:21</td>\n    </tr>\n    <tr>\n      <td>4</td>\n      <td>0.579252</td>\n      <td>0.536128</td>\n      <td>0.828977</td>\n      <td>02:20</td>\n    </tr>\n  </tbody>\n</table>"
          },
          "metadata": {}
        }
      ]
    },
    {
      "cell_type": "code",
      "source": [
        "# Needs normalization (mean = 0, std = 1)\n",
        "x, y = dls.one_batch()\n",
        "x.mean(dim = [0, 2, 3]), x.std(dim = [0, 2, 3])"
      ],
      "metadata": {
        "execution": {
          "iopub.status.busy": "2024-05-06T13:16:57.881179Z",
          "iopub.execute_input": "2024-05-06T13:16:57.881619Z",
          "iopub.status.idle": "2024-05-06T13:16:58.745913Z",
          "shell.execute_reply.started": "2024-05-06T13:16:57.881568Z",
          "shell.execute_reply": "2024-05-06T13:16:58.744796Z"
        },
        "trusted": true,
        "id": "tEn4hpHFOqC9",
        "outputId": "e7af5347-c865-43e2-ebe7-50418a169a6a"
      },
      "execution_count": null,
      "outputs": [
        {
          "execution_count": 5,
          "output_type": "execute_result",
          "data": {
            "text/plain": "(TensorImage([0.4871, 0.4696, 0.4480], device='cuda:0'),\n TensorImage([0.2851, 0.2834, 0.3042], device='cuda:0'))"
          },
          "metadata": {}
        }
      ]
    },
    {
      "cell_type": "code",
      "source": [
        "# Adding Normalize to batch transforms\n",
        "def get_dls(bs, size):\n",
        "    dblock = DataBlock(blocks = (ImageBlock(), CategoryBlock()),\n",
        "                       get_items = get_image_files,\n",
        "                       get_y = parent_label,\n",
        "                       item_tfms = Resize(460),\n",
        "                       batch_tfms = [*aug_transforms(size = size, min_scale = 0.75),\n",
        "                                     Normalize.from_stats(*imagenet_stats)])\n",
        "    return dblock.dataloaders(path, bs = bs)\n",
        "\n",
        "dls = get_dls(64, 224)\n",
        "\n",
        "x, y = dls.one_batch()\n",
        "x.mean(dim = [0, 2, 3]), x.std(dim = [0, 2, 3])"
      ],
      "metadata": {
        "execution": {
          "iopub.status.busy": "2024-05-06T13:17:20.194686Z",
          "iopub.execute_input": "2024-05-06T13:17:20.195614Z",
          "iopub.status.idle": "2024-05-06T13:17:22.004168Z",
          "shell.execute_reply.started": "2024-05-06T13:17:20.195578Z",
          "shell.execute_reply": "2024-05-06T13:17:22.00305Z"
        },
        "trusted": true,
        "id": "rr0VowbBOqC9",
        "outputId": "14e69d3b-a3dc-47da-c78a-889fb8b0649d"
      },
      "execution_count": null,
      "outputs": [
        {
          "execution_count": 6,
          "output_type": "execute_result",
          "data": {
            "text/plain": "(TensorImage([-0.2029, -0.0497,  0.1178], device='cuda:0'),\n TensorImage([1.2329, 1.2314, 1.3509], device='cuda:0'))"
          },
          "metadata": {}
        }
      ]
    },
    {
      "cell_type": "code",
      "source": [
        "model = xresnet50()\n",
        "learn = Learner(dls, model, loss_func = CrossEntropyLossFlat(), metrics = accuracy)\n",
        "learn.fit_one_cycle(5, 3e-3)"
      ],
      "metadata": {
        "id": "osdDgubfOqC9"
      },
      "execution_count": null,
      "outputs": []
    },
    {
      "cell_type": "code",
      "source": [
        "# Trying Progressive Resizing\n",
        "## Smaller images most of the epochs to train faster\n",
        "## Larger images at the end to increase final accuracy\n",
        "\n",
        "# batch_size = 128, size = 128\n",
        "dls = get_dls(128, 128)\n",
        "learn = Learner(dls, xresnet50(), loss_func = CrossEntropyLossFlat(), metrics = accuracy)\n",
        "learn.fit_one_cycle(4, 3e-3)"
      ],
      "metadata": {
        "execution": {
          "iopub.status.busy": "2024-05-06T13:21:03.936981Z",
          "iopub.execute_input": "2024-05-06T13:21:03.93787Z",
          "iopub.status.idle": "2024-05-06T13:26:45.272949Z",
          "shell.execute_reply.started": "2024-05-06T13:21:03.937832Z",
          "shell.execute_reply": "2024-05-06T13:26:45.271743Z"
        },
        "trusted": true,
        "id": "9oqj6XTNOqC-",
        "outputId": "9f7264e2-73c3-4678-fdb2-b58c5f64ec3c"
      },
      "execution_count": null,
      "outputs": [
        {
          "output_type": "display_data",
          "data": {
            "text/plain": "<IPython.core.display.HTML object>",
            "text/html": "\n<style>\n    /* Turns off some styling */\n    progress {\n        /* gets rid of default border in Firefox and Opera. */\n        border: none;\n        /* Needs to be in here for Safari polyfill so background images work as expected. */\n        background-size: auto;\n    }\n    progress:not([value]), progress:not([value])::-webkit-progress-bar {\n        background: repeating-linear-gradient(45deg, #7e7e7e, #7e7e7e 10px, #5c5c5c 10px, #5c5c5c 20px);\n    }\n    .progress-bar-interrupted, .progress-bar-interrupted::-webkit-progress-bar {\n        background: #F44336;\n    }\n</style>\n"
          },
          "metadata": {}
        },
        {
          "output_type": "display_data",
          "data": {
            "text/plain": "<IPython.core.display.HTML object>",
            "text/html": "<table border=\"1\" class=\"dataframe\">\n  <thead>\n    <tr style=\"text-align: left;\">\n      <th>epoch</th>\n      <th>train_loss</th>\n      <th>valid_loss</th>\n      <th>accuracy</th>\n      <th>time</th>\n    </tr>\n  </thead>\n  <tbody>\n    <tr>\n      <td>0</td>\n      <td>1.846546</td>\n      <td>2.548120</td>\n      <td>0.351008</td>\n      <td>01:25</td>\n    </tr>\n    <tr>\n      <td>1</td>\n      <td>1.290853</td>\n      <td>1.653686</td>\n      <td>0.516430</td>\n      <td>01:23</td>\n    </tr>\n    <tr>\n      <td>2</td>\n      <td>0.955559</td>\n      <td>0.916170</td>\n      <td>0.710232</td>\n      <td>01:24</td>\n    </tr>\n    <tr>\n      <td>3</td>\n      <td>0.746501</td>\n      <td>0.695442</td>\n      <td>0.773338</td>\n      <td>01:25</td>\n    </tr>\n  </tbody>\n</table>"
          },
          "metadata": {}
        }
      ]
    },
    {
      "cell_type": "code",
      "source": [
        "# Switching to larger images\n",
        "## It is similar to transfer learning, we fine_tune since working with larger images\n",
        "## is a bit different than smaller images\n",
        "learn.dls = get_dls(64, 224)\n",
        "learn.fine_tune(5, 1e-3)"
      ],
      "metadata": {
        "execution": {
          "iopub.status.busy": "2024-05-06T13:26:45.934389Z",
          "iopub.execute_input": "2024-05-06T13:26:45.934748Z",
          "iopub.status.idle": "2024-05-06T13:40:59.111041Z",
          "shell.execute_reply.started": "2024-05-06T13:26:45.934712Z",
          "shell.execute_reply": "2024-05-06T13:40:59.109742Z"
        },
        "trusted": true,
        "id": "-4MFm7GNOqC-",
        "outputId": "4e8fb021-edd0-4031-bc51-57d596db5eca"
      },
      "execution_count": null,
      "outputs": [
        {
          "output_type": "display_data",
          "data": {
            "text/plain": "<IPython.core.display.HTML object>",
            "text/html": "\n<style>\n    /* Turns off some styling */\n    progress {\n        /* gets rid of default border in Firefox and Opera. */\n        border: none;\n        /* Needs to be in here for Safari polyfill so background images work as expected. */\n        background-size: auto;\n    }\n    progress:not([value]), progress:not([value])::-webkit-progress-bar {\n        background: repeating-linear-gradient(45deg, #7e7e7e, #7e7e7e 10px, #5c5c5c 10px, #5c5c5c 20px);\n    }\n    .progress-bar-interrupted, .progress-bar-interrupted::-webkit-progress-bar {\n        background: #F44336;\n    }\n</style>\n"
          },
          "metadata": {}
        },
        {
          "output_type": "display_data",
          "data": {
            "text/plain": "<IPython.core.display.HTML object>",
            "text/html": "<table border=\"1\" class=\"dataframe\">\n  <thead>\n    <tr style=\"text-align: left;\">\n      <th>epoch</th>\n      <th>train_loss</th>\n      <th>valid_loss</th>\n      <th>accuracy</th>\n      <th>time</th>\n    </tr>\n  </thead>\n  <tbody>\n    <tr>\n      <td>0</td>\n      <td>0.796477</td>\n      <td>1.175769</td>\n      <td>0.654220</td>\n      <td>02:22</td>\n    </tr>\n  </tbody>\n</table>"
          },
          "metadata": {}
        },
        {
          "output_type": "display_data",
          "data": {
            "text/plain": "<IPython.core.display.HTML object>",
            "text/html": "\n<style>\n    /* Turns off some styling */\n    progress {\n        /* gets rid of default border in Firefox and Opera. */\n        border: none;\n        /* Needs to be in here for Safari polyfill so background images work as expected. */\n        background-size: auto;\n    }\n    progress:not([value]), progress:not([value])::-webkit-progress-bar {\n        background: repeating-linear-gradient(45deg, #7e7e7e, #7e7e7e 10px, #5c5c5c 10px, #5c5c5c 20px);\n    }\n    .progress-bar-interrupted, .progress-bar-interrupted::-webkit-progress-bar {\n        background: #F44336;\n    }\n</style>\n"
          },
          "metadata": {}
        },
        {
          "output_type": "display_data",
          "data": {
            "text/plain": "<IPython.core.display.HTML object>",
            "text/html": "<table border=\"1\" class=\"dataframe\">\n  <thead>\n    <tr style=\"text-align: left;\">\n      <th>epoch</th>\n      <th>train_loss</th>\n      <th>valid_loss</th>\n      <th>accuracy</th>\n      <th>time</th>\n    </tr>\n  </thead>\n  <tbody>\n    <tr>\n      <td>0</td>\n      <td>0.629447</td>\n      <td>0.641481</td>\n      <td>0.797237</td>\n      <td>02:22</td>\n    </tr>\n    <tr>\n      <td>1</td>\n      <td>0.629303</td>\n      <td>0.751233</td>\n      <td>0.777819</td>\n      <td>02:22</td>\n    </tr>\n    <tr>\n      <td>2</td>\n      <td>0.568875</td>\n      <td>0.585967</td>\n      <td>0.821135</td>\n      <td>02:21</td>\n    </tr>\n    <tr>\n      <td>3</td>\n      <td>0.481560</td>\n      <td>0.521446</td>\n      <td>0.842420</td>\n      <td>02:21</td>\n    </tr>\n    <tr>\n      <td>4</td>\n      <td>0.429044</td>\n      <td>0.476727</td>\n      <td>0.858476</td>\n      <td>02:21</td>\n    </tr>\n  </tbody>\n</table>"
          },
          "metadata": {}
        }
      ]
    },
    {
      "cell_type": "code",
      "source": [
        "# Another data augmentation technique: Mixup\n",
        "## 1) Select another image from the dataset at random\n",
        "## 2) Select a weight at random\n",
        "## 3) Take weighted average of the two images using the random weight from 2)\n",
        "## 4) Take weighted average of the two label encodings using the random weight from 2)\n",
        "### ! The labels must be in one-hot label encoding.\n",
        "### Mixup requires more epochs to get a better accuracy\n",
        "\n",
        "model = xresnet50()\n",
        "learn = Learner(dls, model = model, loss_func = CrossEntropyLossFlat(),\n",
        "                metrics = accuracy, cbs = MixUp(1.))\n",
        "learn.fit_one_cycle(8, 3e-3)"
      ],
      "metadata": {
        "execution": {
          "iopub.status.busy": "2024-05-06T13:46:04.816564Z",
          "iopub.execute_input": "2024-05-06T13:46:04.817584Z",
          "iopub.status.idle": "2024-05-06T13:53:09.815309Z",
          "shell.execute_reply.started": "2024-05-06T13:46:04.817551Z",
          "shell.execute_reply": "2024-05-06T13:53:09.813847Z"
        },
        "trusted": true,
        "id": "eNuzgc2VOqC_",
        "outputId": "8c8a7e8b-0099-45e2-f286-b2ea218f3080"
      },
      "execution_count": null,
      "outputs": [
        {
          "output_type": "display_data",
          "data": {
            "text/plain": "<IPython.core.display.HTML object>",
            "text/html": "\n<style>\n    /* Turns off some styling */\n    progress {\n        /* gets rid of default border in Firefox and Opera. */\n        border: none;\n        /* Needs to be in here for Safari polyfill so background images work as expected. */\n        background-size: auto;\n    }\n    progress:not([value]), progress:not([value])::-webkit-progress-bar {\n        background: repeating-linear-gradient(45deg, #7e7e7e, #7e7e7e 10px, #5c5c5c 10px, #5c5c5c 20px);\n    }\n    .progress-bar-interrupted, .progress-bar-interrupted::-webkit-progress-bar {\n        background: #F44336;\n    }\n</style>\n"
          },
          "metadata": {}
        },
        {
          "output_type": "display_data",
          "data": {
            "text/plain": "<IPython.core.display.HTML object>",
            "text/html": "<table border=\"1\" class=\"dataframe\">\n  <thead>\n    <tr style=\"text-align: left;\">\n      <th>epoch</th>\n      <th>train_loss</th>\n      <th>valid_loss</th>\n      <th>accuracy</th>\n      <th>time</th>\n    </tr>\n  </thead>\n  <tbody>\n    <tr>\n      <td>0</td>\n      <td>2.308039</td>\n      <td>3.918642</td>\n      <td>0.283794</td>\n      <td>01:24</td>\n    </tr>\n    <tr>\n      <td>1</td>\n      <td>1.864669</td>\n      <td>1.994858</td>\n      <td>0.481703</td>\n      <td>01:25</td>\n    </tr>\n    <tr>\n      <td>2</td>\n      <td>1.659255</td>\n      <td>1.142493</td>\n      <td>0.633682</td>\n      <td>01:24</td>\n    </tr>\n    <tr>\n      <td>3</td>\n      <td>1.501750</td>\n      <td>0.961412</td>\n      <td>0.707244</td>\n      <td>01:25</td>\n    </tr>\n    <tr>\n      <td>4</td>\n      <td>1.416603</td>\n      <td>0.812901</td>\n      <td>0.756161</td>\n      <td>01:24</td>\n    </tr>\n  </tbody>\n</table>"
          },
          "metadata": {}
        }
      ]
    },
    {
      "cell_type": "code",
      "source": [
        "# Label Smoothing\n",
        "## Encourage the model to be less confident\n",
        "## more robust to mislabeled data, generalizes better\n",
        "## Before training adjust labels, replace 1's with a number slightly less than 1\n",
        "## replace 0's with a number slightly greater than 0\n",
        "\n",
        "model = xresnet50()\n",
        "learn = Learner(dls, model, loss_func=LabelSmoothingCrossEntropy(),\n",
        "                metrics = accuracy)\n",
        "learn.fit_one_cycle(5, 3e-3)"
      ],
      "metadata": {
        "id": "11HvGRciOqC_"
      },
      "execution_count": null,
      "outputs": []
    }
  ]
}